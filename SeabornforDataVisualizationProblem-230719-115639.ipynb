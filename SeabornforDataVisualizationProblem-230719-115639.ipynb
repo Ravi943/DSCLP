{
 "cells": [
  {
   "cell_type": "markdown",
   "metadata": {
    "id": "L60-UgB-bmsF"
   },
   "source": [
    "<center><img src=\"https://gitlab.com/accredian/insaid-data/-/raw/main/Logo-Accredian/Case-Study-Cropped.png\" width= 30% /></center>\n"
   ]
  },
  {
   "cell_type": "markdown",
   "metadata": {
    "id": "XLeCRYGPbotd"
   },
   "source": [
    "**<center><h3>Seaborn for Data Visualization (Problem)</h3></center>**"
   ]
  },
  {
   "cell_type": "code",
   "execution_count": null,
   "metadata": {
    "id": "UD4oovd0b5af"
   },
   "outputs": [],
   "source": [
    "import pandas as pd\n",
    "import numpy as np\n",
    "import matplotlib.pyplot as plt\n",
    "import seaborn as sns\n",
    "%matplotlib inline"
   ]
  },
  {
   "cell_type": "code",
   "execution_count": null,
   "metadata": {
    "colab": {
     "base_uri": "https://localhost:8080/",
     "height": 252
    },
    "executionInfo": {
     "elapsed": 1042,
     "status": "ok",
     "timestamp": 1617173613946,
     "user": {
      "displayName": "Mukesh Kumar",
      "photoUrl": "https://lh3.googleusercontent.com/a-/AOh14GjTZH-ccUwdv--s75Iw1qfyi7gtUyH2m_-htD2e=s64",
      "userId": "01238672520445611335"
     },
     "user_tz": -330
    },
    "id": "RtHhyz5Xbb72",
    "outputId": "a57bef19-ed8a-4f40-e5b8-2a7f98354538"
   },
   "outputs": [
    {
     "name": "stdout",
     "output_type": "stream",
     "text": [
      "Data Shape: (800, 12)\n"
     ]
    },
    {
     "data": {
      "text/html": [
       "<div>\n",
       "<style scoped>\n",
       "    .dataframe tbody tr th:only-of-type {\n",
       "        vertical-align: middle;\n",
       "    }\n",
       "\n",
       "    .dataframe tbody tr th {\n",
       "        vertical-align: top;\n",
       "    }\n",
       "\n",
       "    .dataframe thead th {\n",
       "        text-align: right;\n",
       "    }\n",
       "</style>\n",
       "<table border=\"1\" class=\"dataframe\">\n",
       "  <thead>\n",
       "    <tr style=\"text-align: right;\">\n",
       "      <th></th>\n",
       "      <th>Name</th>\n",
       "      <th>Type 1</th>\n",
       "      <th>Type 2</th>\n",
       "      <th>Total</th>\n",
       "      <th>HP</th>\n",
       "      <th>Attack</th>\n",
       "      <th>Defense</th>\n",
       "      <th>Sp. Atk</th>\n",
       "      <th>Sp. Def</th>\n",
       "      <th>Speed</th>\n",
       "      <th>Generation</th>\n",
       "      <th>Legendary</th>\n",
       "    </tr>\n",
       "    <tr>\n",
       "      <th>#</th>\n",
       "      <th></th>\n",
       "      <th></th>\n",
       "      <th></th>\n",
       "      <th></th>\n",
       "      <th></th>\n",
       "      <th></th>\n",
       "      <th></th>\n",
       "      <th></th>\n",
       "      <th></th>\n",
       "      <th></th>\n",
       "      <th></th>\n",
       "      <th></th>\n",
       "    </tr>\n",
       "  </thead>\n",
       "  <tbody>\n",
       "    <tr>\n",
       "      <th>1</th>\n",
       "      <td>Bulbasaur</td>\n",
       "      <td>Grass</td>\n",
       "      <td>Poison</td>\n",
       "      <td>318</td>\n",
       "      <td>45</td>\n",
       "      <td>49</td>\n",
       "      <td>49</td>\n",
       "      <td>65</td>\n",
       "      <td>65</td>\n",
       "      <td>45</td>\n",
       "      <td>1</td>\n",
       "      <td>False</td>\n",
       "    </tr>\n",
       "    <tr>\n",
       "      <th>2</th>\n",
       "      <td>Ivysaur</td>\n",
       "      <td>Grass</td>\n",
       "      <td>Poison</td>\n",
       "      <td>405</td>\n",
       "      <td>60</td>\n",
       "      <td>62</td>\n",
       "      <td>63</td>\n",
       "      <td>80</td>\n",
       "      <td>80</td>\n",
       "      <td>60</td>\n",
       "      <td>1</td>\n",
       "      <td>False</td>\n",
       "    </tr>\n",
       "    <tr>\n",
       "      <th>3</th>\n",
       "      <td>Venusaur</td>\n",
       "      <td>Grass</td>\n",
       "      <td>Poison</td>\n",
       "      <td>525</td>\n",
       "      <td>80</td>\n",
       "      <td>82</td>\n",
       "      <td>83</td>\n",
       "      <td>100</td>\n",
       "      <td>100</td>\n",
       "      <td>80</td>\n",
       "      <td>1</td>\n",
       "      <td>False</td>\n",
       "    </tr>\n",
       "    <tr>\n",
       "      <th>3</th>\n",
       "      <td>VenusaurMega Venusaur</td>\n",
       "      <td>Grass</td>\n",
       "      <td>Poison</td>\n",
       "      <td>625</td>\n",
       "      <td>80</td>\n",
       "      <td>100</td>\n",
       "      <td>123</td>\n",
       "      <td>122</td>\n",
       "      <td>120</td>\n",
       "      <td>80</td>\n",
       "      <td>1</td>\n",
       "      <td>False</td>\n",
       "    </tr>\n",
       "    <tr>\n",
       "      <th>4</th>\n",
       "      <td>Charmander</td>\n",
       "      <td>Fire</td>\n",
       "      <td>NaN</td>\n",
       "      <td>309</td>\n",
       "      <td>39</td>\n",
       "      <td>52</td>\n",
       "      <td>43</td>\n",
       "      <td>60</td>\n",
       "      <td>50</td>\n",
       "      <td>65</td>\n",
       "      <td>1</td>\n",
       "      <td>False</td>\n",
       "    </tr>\n",
       "  </tbody>\n",
       "</table>\n",
       "</div>"
      ],
      "text/plain": [
       "                    Name Type 1  Type 2  ...  Speed  Generation  Legendary\n",
       "#                                        ...                              \n",
       "1              Bulbasaur  Grass  Poison  ...     45           1      False\n",
       "2                Ivysaur  Grass  Poison  ...     60           1      False\n",
       "3               Venusaur  Grass  Poison  ...     80           1      False\n",
       "3  VenusaurMega Venusaur  Grass  Poison  ...     80           1      False\n",
       "4             Charmander   Fire     NaN  ...     65           1      False\n",
       "\n",
       "[5 rows x 12 columns]"
      ]
     },
     "execution_count": 3,
     "metadata": {
      "tags": []
     },
     "output_type": "execute_result"
    }
   ],
   "source": [
    "data = pd.read_csv(filepath_or_buffer=\"https://raw.githubusercontent.com/insaid2018/Term-1/master/Data/Casestudy/Pokemon.csv\", index_col=0)\n",
    "print('Data Shape:', data.shape)\n",
    "data.head()"
   ]
  },
  {
   "cell_type": "markdown",
   "metadata": {
    "id": "7CwDoDuXcPzo"
   },
   "source": [
    "---\n",
    "**<h4>Question 1:** Create a function that generates frequency distribution of categorical features.</h4>\n",
    "\n",
    "---\n",
    "\n",
    "<details>\n",
    "\n",
    "**<summary>Hint:</summary>**\n",
    "\n",
    "- Create a figure size of 15 X 7 inches.\n",
    "\n",
    "- Extract labels and values using .value_counts() function.\n",
    "\n",
    "- Use seaborn .bar() function and pass the labels and values.\n",
    "\n",
    "- Set x, y labels of size 14 and title label of size 16.\n",
    "\n",
    "- Display the output.\n",
    "\n",
    "</details>"
   ]
  },
  {
   "cell_type": "code",
   "execution_count": null,
   "metadata": {
    "id": "MKjqIBolcMXx"
   },
   "outputs": [],
   "source": [
    "def plotBarChart(data=None, column=None, xlabel=None):\n",
    "  # Put your code here..."
   ]
  },
  {
   "cell_type": "code",
   "execution_count": null,
   "metadata": {
    "id": "U88TKJyZhFYG"
   },
   "outputs": [],
   "source": [
    "plotBarChart(data=data, column='Type 1', xlabel='Type 1')"
   ]
  },
  {
   "cell_type": "markdown",
   "metadata": {
    "id": "H74r18Rfow_W"
   },
   "source": [
    "---\n",
    "**<h4>Question 2:** Create a function that generates area distribution of numerical features.</h4>\n",
    "\n",
    "---\n",
    "\n",
    "<details>\n",
    "\n",
    "**<summary>Hint:</summary>**\n",
    "\n",
    "- Create a figure size of 15 X 7 inches.\n",
    "\n",
    "- Set plot style to seaborn in pyplot interface using plt.style.use() function.\n",
    "\n",
    "- Use pandas .plot.area() function to create area chart.\n",
    "\n",
    "- Set x, y labels of size 14 and title label of size 16.\n",
    "\n",
    "- Display the output.\n",
    "\n",
    "</details>"
   ]
  },
  {
   "cell_type": "code",
   "execution_count": null,
   "metadata": {
    "id": "JqhRZhVenbQe"
   },
   "outputs": [],
   "source": [
    "def plotAreaChart(data=None, column=None, xlabel=None):\n",
    "  # Put your code here..."
   ]
  },
  {
   "cell_type": "code",
   "execution_count": null,
   "metadata": {
    "id": "FsMGRaTmn9p3"
   },
   "outputs": [],
   "source": [
    "plotAreaChart(data=data, column='Total', xlabel='Total')"
   ]
  },
  {
   "cell_type": "markdown",
   "metadata": {
    "id": "UXuwd7-dqy6Q"
   },
   "source": [
    "---\n",
    "**<h4>Question 3:** Create a function that generates frequency distribution of numerical features.</h4>\n",
    "\n",
    "---\n",
    "\n",
    "<details>\n",
    "\n",
    "**<summary>Hint:</summary>**\n",
    "\n",
    "- Create a figure size of 15 X 7 inches.\n",
    "\n",
    "- Use seaborn .histplot() function and pass the data column.\n",
    "\n",
    "- Set x, y labels of size 14 and title label of size 16.\n",
    "\n",
    "- Display the output.\n",
    "\n",
    "</details>"
   ]
  },
  {
   "cell_type": "code",
   "execution_count": null,
   "metadata": {
    "id": "wnPDhHf9mkoG"
   },
   "outputs": [],
   "source": [
    "def plotHistChart(data=None, column=None, bins=10, xlabel=None):\n",
    "  # Put your code here..."
   ]
  },
  {
   "cell_type": "code",
   "execution_count": null,
   "metadata": {
    "id": "PHEOpsavrQE2"
   },
   "outputs": [],
   "source": [
    "plotHistChart(data=data, column='Total', bins=10, xlabel='Total')"
   ]
  },
  {
   "cell_type": "markdown",
   "metadata": {
    "id": "WkkV_xNOtutW"
   },
   "source": [
    "---\n",
    "**<h4>Question 4:** Create a function that generates scatter distribution of numerical features.</h4>\n",
    "\n",
    "---\n",
    "\n",
    "<details>\n",
    "\n",
    "**<summary>Hint:</summary>**\n",
    "\n",
    "- Create a figure size of 15 X 7 inches.\n",
    "\n",
    "- Use seaborn .scatterplot() function and pass the data column1 and column2.\n",
    "\n",
    "- Set the scatter size to 200 and alpha of 0.6.\n",
    "\n",
    "- Set x, y labels of size 14 and title label of size 16.\n",
    "\n",
    "- Display the output.\n",
    "\n",
    "</details>"
   ]
  },
  {
   "cell_type": "code",
   "execution_count": null,
   "metadata": {
    "id": "j0emaMnDrqYj"
   },
   "outputs": [],
   "source": [
    "def plotScatterChart(data=None, xaxis=None, yaxis=None):\n",
    "  # Put your code here..."
   ]
  },
  {
   "cell_type": "code",
   "execution_count": null,
   "metadata": {
    "id": "7G847gHrukdB"
   },
   "outputs": [],
   "source": [
    "plotScatterChart(data=data, xaxis='Attack', yaxis='Defense')"
   ]
  },
  {
   "cell_type": "markdown",
   "metadata": {
    "id": "kafNLPU4vYFW"
   },
   "source": [
    "---\n",
    "**<h4>Question 5:** Create a function that generates a line plot of numerical features.</h4>\n",
    "\n",
    "---\n",
    "\n",
    "<details>\n",
    "\n",
    "**<summary>Hint:</summary>**\n",
    "\n",
    "- Create a figure size of 15 X 7 inches.\n",
    "\n",
    "- Sort the data by xaxis in ascending order.\n",
    "\n",
    "- Use seaborn .lineplot() function and pass the xaxis and yaxis data.\n",
    "\n",
    "- Set the alpha to 0.8, linewidth=3 and ci to None.\n",
    "\n",
    "- Set x, y labels of size 14 and title label of size 16.\n",
    "\n",
    "- Display the output.\n",
    "\n",
    "</details>"
   ]
  },
  {
   "cell_type": "code",
   "execution_count": null,
   "metadata": {
    "id": "02KOgx-bvX50"
   },
   "outputs": [],
   "source": [
    "def plotLineChart(data=None, xaxis=None, yaxis=None):\n",
    "  # Put your code here..."
   ]
  },
  {
   "cell_type": "code",
   "execution_count": null,
   "metadata": {
    "id": "k94SyE8qvX2P"
   },
   "outputs": [],
   "source": [
    "plotLineChart(data=data, xaxis='Attack', yaxis='Defense')"
   ]
  },
  {
   "cell_type": "markdown",
   "metadata": {
    "id": "e5Y9wqcS5-w6"
   },
   "source": [
    "---\n",
    "**<h4>Question 6:** Create a function that generates a pie plot only if number of categories are less than 7.</h4>\n",
    "\n",
    "---\n",
    "\n",
    "<details>\n",
    "\n",
    "**<summary>Hint:</summary>**\n",
    "\n",
    "- Check if the number of categories are less than 7 or not.\n",
    "\n",
    "- If the number of categories are less than 7 then do as following.\n",
    "\n",
    "  - Create a figure size of 15 X 7 inches.\n",
    "\n",
    "  - Set plot style to seaborn in pyplot interface using plt.style.use() function.\n",
    "\n",
    "  - Extract labels and sizes using .value_counts() and store in a variable.\n",
    "\n",
    "  - Create explode list of length equal to the number of categories using np.ones() and divide by 10.\n",
    "\n",
    "  - Use matplotlib's .pie() function and pass the data column along with additional parameters.\n",
    "\n",
    "  - Display the percentage of the categories starting at angle 180 and wedge proportion of width of 0.15.\n",
    "\n",
    "  - Set title label of size 16 and display the output.\n",
    "\n",
    "- If the number of categories are greaer than equal to 7 then display error message.\n",
    "\n",
    "</details>"
   ]
  },
  {
   "cell_type": "code",
   "execution_count": null,
   "metadata": {
    "id": "TlbIQ9bp2BBk"
   },
   "outputs": [],
   "source": [
    "def plotPieChart(data=None, column=None):\n",
    "  # Put your code here..."
   ]
  },
  {
   "cell_type": "code",
   "execution_count": null,
   "metadata": {
    "id": "HyekWQWE8B81"
   },
   "outputs": [],
   "source": [
    "plotPieChart(data=data, column='Legendary')"
   ]
  },
  {
   "cell_type": "markdown",
   "metadata": {
    "id": "terqvmzM8t62"
   },
   "source": [
    "---\n",
    "**<h4>Question 7:** Create a function that generates a box plot of numerical features.</h4>\n",
    "\n",
    "---\n",
    "\n",
    "<details>\n",
    "\n",
    "**<summary>Hint:</summary>**\n",
    "\n",
    "- Create a figure size of 15 X 7 inches.\n",
    "\n",
    "- Use seaborn .boxplot() function and pass the data column.\n",
    "\n",
    "- Set x, y labels of size 14 and title label of size 16.\n",
    "\n",
    "- Display the output.\n",
    "\n",
    "</details>"
   ]
  },
  {
   "cell_type": "code",
   "execution_count": null,
   "metadata": {
    "id": "tpbyekNAFhfQ"
   },
   "outputs": [],
   "source": [
    "def plotBoxChart(data=None, column=None):\n",
    "  # Put your code here..."
   ]
  },
  {
   "cell_type": "code",
   "execution_count": null,
   "metadata": {
    "id": "LL0vBEJWF1e_"
   },
   "outputs": [],
   "source": [
    "plotBoxChart(data=data, column='Total')"
   ]
  },
  {
   "cell_type": "markdown",
   "metadata": {
    "id": "00yA8JLLH1Pe"
   },
   "source": [
    "---\n",
    "**<h4>Question 8:** Create a function that generates a hexbin plot of numerical features.</h4>\n",
    "\n",
    "---\n",
    "\n",
    "<details>\n",
    "\n",
    "**<summary>Hint:</summary>**\n",
    "\n",
    "- Create a figure size of 15 X 7 inches.\n",
    "\n",
    "- Set plot style to seaborn in pyplot interface using plt.style.use() function.\n",
    "\n",
    "- Use matplotlib's .hexbin() function and pass the xaxis and yaxis data.\n",
    "\n",
    "- Add a colorbar using .colorbar() function to read the graph.\n",
    "\n",
    "- Set x, y labels of size 14 and title label of size 16.\n",
    "\n",
    "- Display the output.\n",
    "\n",
    "</details>"
   ]
  },
  {
   "cell_type": "code",
   "execution_count": null,
   "metadata": {
    "id": "_wGy1vCuH1FX"
   },
   "outputs": [],
   "source": [
    "def plotHexbinChart(data=None, xaxis=None, yaxis=None):\n",
    "  # Put your code here..."
   ]
  },
  {
   "cell_type": "code",
   "execution_count": null,
   "metadata": {
    "id": "BTu0HDgTIXjb"
   },
   "outputs": [],
   "source": [
    "plotHexbinChart(data=data, xaxis='Attack', yaxis='Defense')"
   ]
  }
 ],
 "metadata": {
  "colab": {
   "authorship_tag": "ABX9TyNQcFoeKuaiqmFekU2Phw3/",
   "collapsed_sections": [],
   "name": "Seaborn for Data Visualization (Problem).ipynb",
   "provenance": []
  },
  "kernelspec": {
   "display_name": "Python 3 (ipykernel)",
   "language": "python",
   "name": "python3"
  },
  "language_info": {
   "codemirror_mode": {
    "name": "ipython",
    "version": 3
   },
   "file_extension": ".py",
   "mimetype": "text/x-python",
   "name": "python",
   "nbconvert_exporter": "python",
   "pygments_lexer": "ipython3",
   "version": "3.11.1"
  }
 },
 "nbformat": 4,
 "nbformat_minor": 1
}
